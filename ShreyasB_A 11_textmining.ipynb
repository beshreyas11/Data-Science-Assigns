{
  "cells": [
    {
      "cell_type": "markdown",
      "source": [
        "DS Assignment 11\n",
        "\n",
        "Text Mining\n",
        "\n",
        "afinn dataset"
      ],
      "metadata": {
        "id": "Ims5skvYM_AN"
      },
      "id": "Ims5skvYM_AN"
    },
    {
      "cell_type": "code",
      "source": [
        "import pandas as pd\n",
        "import numpy as np\n",
        "import seaborn as sns\n",
        "import nltk\n",
        "import string\n",
        "import spacy\n",
        "from matplotlib.pyplot import imread\n",
        "from wordcloud import WordCloud\n",
        "import matplotlib.pyplot as plt"
      ],
      "metadata": {
        "id": "lTHXFX1gf-dk"
      },
      "id": "lTHXFX1gf-dk",
      "execution_count": null,
      "outputs": []
    },
    {
      "cell_type": "code",
      "execution_count": null,
      "id": "7d6695bd",
      "metadata": {
        "id": "7d6695bd"
      },
      "outputs": [],
      "source": [
        "data=pd.read_csv(\"/content/afinn.csv\",encoding=\"latin1\")"
      ]
    },
    {
      "cell_type": "code",
      "execution_count": null,
      "id": "46b9ff50",
      "metadata": {
        "colab": {
          "base_uri": "https://localhost:8080/",
          "height": 423
        },
        "id": "46b9ff50",
        "outputId": "e7927e56-5921-493b-c174-dcaf2f6860b1"
      },
      "outputs": [
        {
          "output_type": "execute_result",
          "data": {
            "text/plain": [
              "           word  value\n",
              "0       abandon     -2\n",
              "1     abandoned     -2\n",
              "2      abandons     -2\n",
              "3      abducted     -2\n",
              "4     abduction     -2\n",
              "...         ...    ...\n",
              "2472      yucky     -2\n",
              "2473      yummy      3\n",
              "2474     zealot     -2\n",
              "2475    zealots     -2\n",
              "2476    zealous      2\n",
              "\n",
              "[2477 rows x 2 columns]"
            ],
            "text/html": [
              "\n",
              "  <div id=\"df-eeb63102-4315-4cbb-a67c-6ff6a9ee84d2\">\n",
              "    <div class=\"colab-df-container\">\n",
              "      <div>\n",
              "<style scoped>\n",
              "    .dataframe tbody tr th:only-of-type {\n",
              "        vertical-align: middle;\n",
              "    }\n",
              "\n",
              "    .dataframe tbody tr th {\n",
              "        vertical-align: top;\n",
              "    }\n",
              "\n",
              "    .dataframe thead th {\n",
              "        text-align: right;\n",
              "    }\n",
              "</style>\n",
              "<table border=\"1\" class=\"dataframe\">\n",
              "  <thead>\n",
              "    <tr style=\"text-align: right;\">\n",
              "      <th></th>\n",
              "      <th>word</th>\n",
              "      <th>value</th>\n",
              "    </tr>\n",
              "  </thead>\n",
              "  <tbody>\n",
              "    <tr>\n",
              "      <th>0</th>\n",
              "      <td>abandon</td>\n",
              "      <td>-2</td>\n",
              "    </tr>\n",
              "    <tr>\n",
              "      <th>1</th>\n",
              "      <td>abandoned</td>\n",
              "      <td>-2</td>\n",
              "    </tr>\n",
              "    <tr>\n",
              "      <th>2</th>\n",
              "      <td>abandons</td>\n",
              "      <td>-2</td>\n",
              "    </tr>\n",
              "    <tr>\n",
              "      <th>3</th>\n",
              "      <td>abducted</td>\n",
              "      <td>-2</td>\n",
              "    </tr>\n",
              "    <tr>\n",
              "      <th>4</th>\n",
              "      <td>abduction</td>\n",
              "      <td>-2</td>\n",
              "    </tr>\n",
              "    <tr>\n",
              "      <th>...</th>\n",
              "      <td>...</td>\n",
              "      <td>...</td>\n",
              "    </tr>\n",
              "    <tr>\n",
              "      <th>2472</th>\n",
              "      <td>yucky</td>\n",
              "      <td>-2</td>\n",
              "    </tr>\n",
              "    <tr>\n",
              "      <th>2473</th>\n",
              "      <td>yummy</td>\n",
              "      <td>3</td>\n",
              "    </tr>\n",
              "    <tr>\n",
              "      <th>2474</th>\n",
              "      <td>zealot</td>\n",
              "      <td>-2</td>\n",
              "    </tr>\n",
              "    <tr>\n",
              "      <th>2475</th>\n",
              "      <td>zealots</td>\n",
              "      <td>-2</td>\n",
              "    </tr>\n",
              "    <tr>\n",
              "      <th>2476</th>\n",
              "      <td>zealous</td>\n",
              "      <td>2</td>\n",
              "    </tr>\n",
              "  </tbody>\n",
              "</table>\n",
              "<p>2477 rows × 2 columns</p>\n",
              "</div>\n",
              "      <button class=\"colab-df-convert\" onclick=\"convertToInteractive('df-eeb63102-4315-4cbb-a67c-6ff6a9ee84d2')\"\n",
              "              title=\"Convert this dataframe to an interactive table.\"\n",
              "              style=\"display:none;\">\n",
              "        \n",
              "  <svg xmlns=\"http://www.w3.org/2000/svg\" height=\"24px\"viewBox=\"0 0 24 24\"\n",
              "       width=\"24px\">\n",
              "    <path d=\"M0 0h24v24H0V0z\" fill=\"none\"/>\n",
              "    <path d=\"M18.56 5.44l.94 2.06.94-2.06 2.06-.94-2.06-.94-.94-2.06-.94 2.06-2.06.94zm-11 1L8.5 8.5l.94-2.06 2.06-.94-2.06-.94L8.5 2.5l-.94 2.06-2.06.94zm10 10l.94 2.06.94-2.06 2.06-.94-2.06-.94-.94-2.06-.94 2.06-2.06.94z\"/><path d=\"M17.41 7.96l-1.37-1.37c-.4-.4-.92-.59-1.43-.59-.52 0-1.04.2-1.43.59L10.3 9.45l-7.72 7.72c-.78.78-.78 2.05 0 2.83L4 21.41c.39.39.9.59 1.41.59.51 0 1.02-.2 1.41-.59l7.78-7.78 2.81-2.81c.8-.78.8-2.07 0-2.86zM5.41 20L4 18.59l7.72-7.72 1.47 1.35L5.41 20z\"/>\n",
              "  </svg>\n",
              "      </button>\n",
              "      \n",
              "  <style>\n",
              "    .colab-df-container {\n",
              "      display:flex;\n",
              "      flex-wrap:wrap;\n",
              "      gap: 12px;\n",
              "    }\n",
              "\n",
              "    .colab-df-convert {\n",
              "      background-color: #E8F0FE;\n",
              "      border: none;\n",
              "      border-radius: 50%;\n",
              "      cursor: pointer;\n",
              "      display: none;\n",
              "      fill: #1967D2;\n",
              "      height: 32px;\n",
              "      padding: 0 0 0 0;\n",
              "      width: 32px;\n",
              "    }\n",
              "\n",
              "    .colab-df-convert:hover {\n",
              "      background-color: #E2EBFA;\n",
              "      box-shadow: 0px 1px 2px rgba(60, 64, 67, 0.3), 0px 1px 3px 1px rgba(60, 64, 67, 0.15);\n",
              "      fill: #174EA6;\n",
              "    }\n",
              "\n",
              "    [theme=dark] .colab-df-convert {\n",
              "      background-color: #3B4455;\n",
              "      fill: #D2E3FC;\n",
              "    }\n",
              "\n",
              "    [theme=dark] .colab-df-convert:hover {\n",
              "      background-color: #434B5C;\n",
              "      box-shadow: 0px 1px 3px 1px rgba(0, 0, 0, 0.15);\n",
              "      filter: drop-shadow(0px 1px 2px rgba(0, 0, 0, 0.3));\n",
              "      fill: #FFFFFF;\n",
              "    }\n",
              "  </style>\n",
              "\n",
              "      <script>\n",
              "        const buttonEl =\n",
              "          document.querySelector('#df-eeb63102-4315-4cbb-a67c-6ff6a9ee84d2 button.colab-df-convert');\n",
              "        buttonEl.style.display =\n",
              "          google.colab.kernel.accessAllowed ? 'block' : 'none';\n",
              "\n",
              "        async function convertToInteractive(key) {\n",
              "          const element = document.querySelector('#df-eeb63102-4315-4cbb-a67c-6ff6a9ee84d2');\n",
              "          const dataTable =\n",
              "            await google.colab.kernel.invokeFunction('convertToInteractive',\n",
              "                                                     [key], {});\n",
              "          if (!dataTable) return;\n",
              "\n",
              "          const docLinkHtml = 'Like what you see? Visit the ' +\n",
              "            '<a target=\"_blank\" href=https://colab.research.google.com/notebooks/data_table.ipynb>data table notebook</a>'\n",
              "            + ' to learn more about interactive tables.';\n",
              "          element.innerHTML = '';\n",
              "          dataTable['output_type'] = 'display_data';\n",
              "          await google.colab.output.renderOutput(dataTable, element);\n",
              "          const docLink = document.createElement('div');\n",
              "          docLink.innerHTML = docLinkHtml;\n",
              "          element.appendChild(docLink);\n",
              "        }\n",
              "      </script>\n",
              "    </div>\n",
              "  </div>\n",
              "  "
            ]
          },
          "metadata": {},
          "execution_count": 163
        }
      ],
      "source": [
        "data"
      ]
    },
    {
      "cell_type": "code",
      "execution_count": null,
      "id": "fca2b4b2",
      "metadata": {
        "colab": {
          "base_uri": "https://localhost:8080/"
        },
        "id": "fca2b4b2",
        "outputId": "99b63ecb-b029-4bde-d839-6765bf7efa92"
      },
      "outputs": [
        {
          "output_type": "stream",
          "name": "stdout",
          "text": [
            "<class 'pandas.core.frame.DataFrame'>\n",
            "RangeIndex: 2477 entries, 0 to 2476\n",
            "Data columns (total 2 columns):\n",
            " #   Column  Non-Null Count  Dtype \n",
            "---  ------  --------------  ----- \n",
            " 0   word    2477 non-null   object\n",
            " 1   value   2477 non-null   int64 \n",
            "dtypes: int64(1), object(1)\n",
            "memory usage: 38.8+ KB\n"
          ]
        }
      ],
      "source": [
        "data.info()"
      ]
    },
    {
      "cell_type": "code",
      "execution_count": null,
      "id": "1137c4b3",
      "metadata": {
        "colab": {
          "base_uri": "https://localhost:8080/",
          "height": 300
        },
        "id": "1137c4b3",
        "outputId": "eacae5ca-a213-474d-979c-19f5ef834ef1"
      },
      "outputs": [
        {
          "output_type": "execute_result",
          "data": {
            "text/plain": [
              "             value\n",
              "count  2477.000000\n",
              "mean     -0.589423\n",
              "std       2.123931\n",
              "min      -5.000000\n",
              "25%      -2.000000\n",
              "50%      -2.000000\n",
              "75%       2.000000\n",
              "max       5.000000"
            ],
            "text/html": [
              "\n",
              "  <div id=\"df-6518519c-8fd9-4664-80e6-1e06550b3bf3\">\n",
              "    <div class=\"colab-df-container\">\n",
              "      <div>\n",
              "<style scoped>\n",
              "    .dataframe tbody tr th:only-of-type {\n",
              "        vertical-align: middle;\n",
              "    }\n",
              "\n",
              "    .dataframe tbody tr th {\n",
              "        vertical-align: top;\n",
              "    }\n",
              "\n",
              "    .dataframe thead th {\n",
              "        text-align: right;\n",
              "    }\n",
              "</style>\n",
              "<table border=\"1\" class=\"dataframe\">\n",
              "  <thead>\n",
              "    <tr style=\"text-align: right;\">\n",
              "      <th></th>\n",
              "      <th>value</th>\n",
              "    </tr>\n",
              "  </thead>\n",
              "  <tbody>\n",
              "    <tr>\n",
              "      <th>count</th>\n",
              "      <td>2477.000000</td>\n",
              "    </tr>\n",
              "    <tr>\n",
              "      <th>mean</th>\n",
              "      <td>-0.589423</td>\n",
              "    </tr>\n",
              "    <tr>\n",
              "      <th>std</th>\n",
              "      <td>2.123931</td>\n",
              "    </tr>\n",
              "    <tr>\n",
              "      <th>min</th>\n",
              "      <td>-5.000000</td>\n",
              "    </tr>\n",
              "    <tr>\n",
              "      <th>25%</th>\n",
              "      <td>-2.000000</td>\n",
              "    </tr>\n",
              "    <tr>\n",
              "      <th>50%</th>\n",
              "      <td>-2.000000</td>\n",
              "    </tr>\n",
              "    <tr>\n",
              "      <th>75%</th>\n",
              "      <td>2.000000</td>\n",
              "    </tr>\n",
              "    <tr>\n",
              "      <th>max</th>\n",
              "      <td>5.000000</td>\n",
              "    </tr>\n",
              "  </tbody>\n",
              "</table>\n",
              "</div>\n",
              "      <button class=\"colab-df-convert\" onclick=\"convertToInteractive('df-6518519c-8fd9-4664-80e6-1e06550b3bf3')\"\n",
              "              title=\"Convert this dataframe to an interactive table.\"\n",
              "              style=\"display:none;\">\n",
              "        \n",
              "  <svg xmlns=\"http://www.w3.org/2000/svg\" height=\"24px\"viewBox=\"0 0 24 24\"\n",
              "       width=\"24px\">\n",
              "    <path d=\"M0 0h24v24H0V0z\" fill=\"none\"/>\n",
              "    <path d=\"M18.56 5.44l.94 2.06.94-2.06 2.06-.94-2.06-.94-.94-2.06-.94 2.06-2.06.94zm-11 1L8.5 8.5l.94-2.06 2.06-.94-2.06-.94L8.5 2.5l-.94 2.06-2.06.94zm10 10l.94 2.06.94-2.06 2.06-.94-2.06-.94-.94-2.06-.94 2.06-2.06.94z\"/><path d=\"M17.41 7.96l-1.37-1.37c-.4-.4-.92-.59-1.43-.59-.52 0-1.04.2-1.43.59L10.3 9.45l-7.72 7.72c-.78.78-.78 2.05 0 2.83L4 21.41c.39.39.9.59 1.41.59.51 0 1.02-.2 1.41-.59l7.78-7.78 2.81-2.81c.8-.78.8-2.07 0-2.86zM5.41 20L4 18.59l7.72-7.72 1.47 1.35L5.41 20z\"/>\n",
              "  </svg>\n",
              "      </button>\n",
              "      \n",
              "  <style>\n",
              "    .colab-df-container {\n",
              "      display:flex;\n",
              "      flex-wrap:wrap;\n",
              "      gap: 12px;\n",
              "    }\n",
              "\n",
              "    .colab-df-convert {\n",
              "      background-color: #E8F0FE;\n",
              "      border: none;\n",
              "      border-radius: 50%;\n",
              "      cursor: pointer;\n",
              "      display: none;\n",
              "      fill: #1967D2;\n",
              "      height: 32px;\n",
              "      padding: 0 0 0 0;\n",
              "      width: 32px;\n",
              "    }\n",
              "\n",
              "    .colab-df-convert:hover {\n",
              "      background-color: #E2EBFA;\n",
              "      box-shadow: 0px 1px 2px rgba(60, 64, 67, 0.3), 0px 1px 3px 1px rgba(60, 64, 67, 0.15);\n",
              "      fill: #174EA6;\n",
              "    }\n",
              "\n",
              "    [theme=dark] .colab-df-convert {\n",
              "      background-color: #3B4455;\n",
              "      fill: #D2E3FC;\n",
              "    }\n",
              "\n",
              "    [theme=dark] .colab-df-convert:hover {\n",
              "      background-color: #434B5C;\n",
              "      box-shadow: 0px 1px 3px 1px rgba(0, 0, 0, 0.15);\n",
              "      filter: drop-shadow(0px 1px 2px rgba(0, 0, 0, 0.3));\n",
              "      fill: #FFFFFF;\n",
              "    }\n",
              "  </style>\n",
              "\n",
              "      <script>\n",
              "        const buttonEl =\n",
              "          document.querySelector('#df-6518519c-8fd9-4664-80e6-1e06550b3bf3 button.colab-df-convert');\n",
              "        buttonEl.style.display =\n",
              "          google.colab.kernel.accessAllowed ? 'block' : 'none';\n",
              "\n",
              "        async function convertToInteractive(key) {\n",
              "          const element = document.querySelector('#df-6518519c-8fd9-4664-80e6-1e06550b3bf3');\n",
              "          const dataTable =\n",
              "            await google.colab.kernel.invokeFunction('convertToInteractive',\n",
              "                                                     [key], {});\n",
              "          if (!dataTable) return;\n",
              "\n",
              "          const docLinkHtml = 'Like what you see? Visit the ' +\n",
              "            '<a target=\"_blank\" href=https://colab.research.google.com/notebooks/data_table.ipynb>data table notebook</a>'\n",
              "            + ' to learn more about interactive tables.';\n",
              "          element.innerHTML = '';\n",
              "          dataTable['output_type'] = 'display_data';\n",
              "          await google.colab.output.renderOutput(dataTable, element);\n",
              "          const docLink = document.createElement('div');\n",
              "          docLink.innerHTML = docLinkHtml;\n",
              "          element.appendChild(docLink);\n",
              "        }\n",
              "      </script>\n",
              "    </div>\n",
              "  </div>\n",
              "  "
            ]
          },
          "metadata": {},
          "execution_count": 165
        }
      ],
      "source": [
        "data.describe()"
      ]
    },
    {
      "cell_type": "code",
      "execution_count": null,
      "id": "d7b90e53",
      "metadata": {
        "colab": {
          "base_uri": "https://localhost:8080/"
        },
        "id": "d7b90e53",
        "outputId": "05c0662b-f9a0-4f6a-cb83-adfd73f45537"
      },
      "outputs": [
        {
          "output_type": "execute_result",
          "data": {
            "text/plain": [
              "(2477, 2)"
            ]
          },
          "metadata": {},
          "execution_count": 166
        }
      ],
      "source": [
        "data.shape"
      ]
    },
    {
      "cell_type": "code",
      "execution_count": null,
      "id": "40d39f1d",
      "metadata": {
        "colab": {
          "base_uri": "https://localhost:8080/"
        },
        "id": "40d39f1d",
        "outputId": "ea404f14-0a16-409c-b1c6-325f182a64f4"
      },
      "outputs": [
        {
          "output_type": "execute_result",
          "data": {
            "text/plain": [
              "word     0\n",
              "value    0\n",
              "dtype: int64"
            ]
          },
          "metadata": {},
          "execution_count": 167
        }
      ],
      "source": [
        "data.isnull().sum()"
      ]
    },
    {
      "cell_type": "code",
      "execution_count": null,
      "id": "37257fea",
      "metadata": {
        "id": "37257fea"
      },
      "outputs": [],
      "source": [
        "data=[x.strip() for x in data]"
      ]
    },
    {
      "cell_type": "code",
      "source": [
        "data"
      ],
      "metadata": {
        "colab": {
          "base_uri": "https://localhost:8080/"
        },
        "id": "ulYVvLDxPU1s",
        "outputId": "394c8e45-d33e-4443-a372-44b276d86132"
      },
      "id": "ulYVvLDxPU1s",
      "execution_count": null,
      "outputs": [
        {
          "output_type": "execute_result",
          "data": {
            "text/plain": [
              "['word', 'value']"
            ]
          },
          "metadata": {},
          "execution_count": 169
        }
      ]
    },
    {
      "cell_type": "code",
      "execution_count": null,
      "id": "c526a6d5",
      "metadata": {
        "id": "c526a6d5",
        "colab": {
          "base_uri": "https://localhost:8080/"
        },
        "outputId": "cc6064ba-e50d-4c9b-cb74-d728f1e44e19"
      },
      "outputs": [
        {
          "output_type": "execute_result",
          "data": {
            "text/plain": [
              "['word', 'value']"
            ]
          },
          "metadata": {},
          "execution_count": 170
        }
      ],
      "source": [
        "data=[x for x in data if x]\n",
        "data"
      ]
    },
    {
      "cell_type": "code",
      "execution_count": null,
      "id": "fe6083d2",
      "metadata": {
        "colab": {
          "base_uri": "https://localhost:8080/"
        },
        "id": "fe6083d2",
        "outputId": "7ae32aee-8531-422d-82a5-6d1c128c07c4"
      },
      "outputs": [
        {
          "output_type": "execute_result",
          "data": {
            "text/plain": [
              "['word', 'value']"
            ]
          },
          "metadata": {},
          "execution_count": 171
        }
      ],
      "source": [
        "data[0:10]"
      ]
    },
    {
      "cell_type": "code",
      "execution_count": null,
      "id": "5a4167bd",
      "metadata": {
        "id": "5a4167bd"
      },
      "outputs": [],
      "source": [
        "text=\" \".join(data)"
      ]
    },
    {
      "cell_type": "code",
      "execution_count": null,
      "id": "78d57e3c",
      "metadata": {
        "colab": {
          "base_uri": "https://localhost:8080/",
          "height": 35
        },
        "id": "78d57e3c",
        "outputId": "54ba6986-cf5f-4996-aaad-5f4fa83acebd"
      },
      "outputs": [
        {
          "output_type": "execute_result",
          "data": {
            "text/plain": [
              "'word value'"
            ],
            "application/vnd.google.colaboratory.intrinsic+json": {
              "type": "string"
            }
          },
          "metadata": {},
          "execution_count": 173
        }
      ],
      "source": [
        "text"
      ]
    },
    {
      "cell_type": "code",
      "execution_count": null,
      "id": "ba1269dd",
      "metadata": {
        "id": "ba1269dd"
      },
      "outputs": [],
      "source": [
        "# punctuations\n",
        "\n",
        "no_punc_text=text.translate(str.maketrans(\"\",\"\",string.punctuation))"
      ]
    },
    {
      "cell_type": "code",
      "execution_count": null,
      "id": "eee1e0d5",
      "metadata": {
        "colab": {
          "base_uri": "https://localhost:8080/",
          "height": 35
        },
        "id": "eee1e0d5",
        "outputId": "8764c4ae-b43c-4f06-82c6-4664f0d50dff"
      },
      "outputs": [
        {
          "output_type": "execute_result",
          "data": {
            "text/plain": [
              "'word value'"
            ],
            "application/vnd.google.colaboratory.intrinsic+json": {
              "type": "string"
            }
          },
          "metadata": {},
          "execution_count": 175
        }
      ],
      "source": [
        "no_punc_text"
      ]
    },
    {
      "cell_type": "code",
      "execution_count": null,
      "id": "4764c8f1",
      "metadata": {
        "id": "4764c8f1"
      },
      "outputs": [],
      "source": [
        "from nltk.tokenize import word_tokenize"
      ]
    },
    {
      "cell_type": "code",
      "source": [
        "import nltk\n",
        "nltk.download('punkt')\n"
      ],
      "metadata": {
        "colab": {
          "base_uri": "https://localhost:8080/"
        },
        "id": "YovUKj06znrn",
        "outputId": "c8671b56-c566-4bb3-e4d3-2fb5ed7de99c"
      },
      "id": "YovUKj06znrn",
      "execution_count": null,
      "outputs": [
        {
          "output_type": "stream",
          "name": "stderr",
          "text": [
            "[nltk_data] Downloading package punkt to /root/nltk_data...\n",
            "[nltk_data]   Package punkt is already up-to-date!\n"
          ]
        },
        {
          "output_type": "execute_result",
          "data": {
            "text/plain": [
              "True"
            ]
          },
          "metadata": {},
          "execution_count": 177
        }
      ]
    },
    {
      "cell_type": "code",
      "execution_count": null,
      "id": "3f6c080b",
      "metadata": {
        "id": "3f6c080b"
      },
      "outputs": [],
      "source": [
        "text_tokenz=word_tokenize(no_punc_text)"
      ]
    },
    {
      "cell_type": "code",
      "execution_count": null,
      "id": "16ef1ea8",
      "metadata": {
        "colab": {
          "base_uri": "https://localhost:8080/"
        },
        "id": "16ef1ea8",
        "outputId": "0df5038d-c0e5-437c-8736-8690377a911e"
      },
      "outputs": [
        {
          "output_type": "execute_result",
          "data": {
            "text/plain": [
              "['word', 'value']"
            ]
          },
          "metadata": {},
          "execution_count": 179
        }
      ],
      "source": [
        "text_tokenz"
      ]
    },
    {
      "cell_type": "code",
      "execution_count": null,
      "id": "f50c05d0",
      "metadata": {
        "id": "f50c05d0"
      },
      "outputs": [],
      "source": [
        "from nltk.corpus import stopwords"
      ]
    },
    {
      "cell_type": "code",
      "execution_count": null,
      "id": "eba9375d",
      "metadata": {
        "id": "eba9375d",
        "colab": {
          "base_uri": "https://localhost:8080/"
        },
        "outputId": "092d2ef2-2b74-4b04-d313-d063cc4f3d2a"
      },
      "outputs": [
        {
          "output_type": "stream",
          "name": "stderr",
          "text": [
            "[nltk_data] Downloading package stopwords to /root/nltk_data...\n",
            "[nltk_data]   Package stopwords is already up-to-date!\n"
          ]
        },
        {
          "output_type": "execute_result",
          "data": {
            "text/plain": [
              "True"
            ]
          },
          "metadata": {},
          "execution_count": 181
        }
      ],
      "source": [
        "nltk.download(\"stopwords\")"
      ]
    },
    {
      "cell_type": "code",
      "execution_count": null,
      "id": "dffb0a9c",
      "metadata": {
        "id": "dffb0a9c"
      },
      "outputs": [],
      "source": [
        "sw_list=['I','The','It','A']"
      ]
    },
    {
      "cell_type": "code",
      "execution_count": null,
      "id": "a42f11b6",
      "metadata": {
        "id": "a42f11b6"
      },
      "outputs": [],
      "source": [
        "my_stop_words=stopwords.words(\"english\")"
      ]
    },
    {
      "cell_type": "code",
      "execution_count": null,
      "id": "c7ec09cf",
      "metadata": {
        "id": "c7ec09cf"
      },
      "outputs": [],
      "source": [
        "my_stop_words.append(\"sw_list\")"
      ]
    },
    {
      "cell_type": "code",
      "execution_count": null,
      "id": "e5b8627e",
      "metadata": {
        "id": "e5b8627e",
        "colab": {
          "base_uri": "https://localhost:8080/"
        },
        "outputId": "893df465-d36e-4ee0-8cc4-856a7cfda550"
      },
      "outputs": [
        {
          "output_type": "stream",
          "name": "stdout",
          "text": [
            "['word', 'value']\n"
          ]
        }
      ],
      "source": [
        "no_stop_tokenz=[word for word in text_tokenz if not word in my_stop_words]\n",
        "print(no_stop_tokenz)"
      ]
    },
    {
      "cell_type": "code",
      "execution_count": null,
      "id": "c0471527",
      "metadata": {
        "id": "c0471527"
      },
      "outputs": [],
      "source": [
        "lower_words=[x.lower() for x in no_stop_tokenz]"
      ]
    },
    {
      "cell_type": "code",
      "execution_count": null,
      "id": "dff91cf6",
      "metadata": {
        "id": "dff91cf6",
        "colab": {
          "base_uri": "https://localhost:8080/"
        },
        "outputId": "9c3af33a-7ca1-437d-b9f2-107e233ff0aa"
      },
      "outputs": [
        {
          "output_type": "execute_result",
          "data": {
            "text/plain": [
              "['word', 'value']"
            ]
          },
          "metadata": {},
          "execution_count": 187
        }
      ],
      "source": [
        "lower_words"
      ]
    },
    {
      "cell_type": "code",
      "execution_count": null,
      "id": "2b756002",
      "metadata": {
        "id": "2b756002"
      },
      "outputs": [],
      "source": [
        "from nltk.stem import PorterStemmer"
      ]
    },
    {
      "cell_type": "code",
      "execution_count": null,
      "id": "05b7280d",
      "metadata": {
        "id": "05b7280d"
      },
      "outputs": [],
      "source": [
        "ps= PorterStemmer()"
      ]
    },
    {
      "cell_type": "code",
      "execution_count": null,
      "id": "ed9ff768",
      "metadata": {
        "id": "ed9ff768"
      },
      "outputs": [],
      "source": [
        "stemmed_tokenz=[ps.stem(word) for word in lower_words]"
      ]
    },
    {
      "cell_type": "code",
      "execution_count": null,
      "id": "42857aa9",
      "metadata": {
        "id": "42857aa9",
        "colab": {
          "base_uri": "https://localhost:8080/"
        },
        "outputId": "869216bd-9833-4565-a5e0-023be3f43a32"
      },
      "outputs": [
        {
          "output_type": "execute_result",
          "data": {
            "text/plain": [
              "['word', 'valu']"
            ]
          },
          "metadata": {},
          "execution_count": 191
        }
      ],
      "source": [
        "stemmed_tokenz"
      ]
    },
    {
      "cell_type": "code",
      "execution_count": null,
      "id": "885451ee",
      "metadata": {
        "id": "885451ee"
      },
      "outputs": [],
      "source": [
        "nlp=spacy.load(\"en_core_web_sm\")"
      ]
    },
    {
      "cell_type": "code",
      "execution_count": null,
      "id": "7dc8ccb4",
      "metadata": {
        "id": "7dc8ccb4",
        "colab": {
          "base_uri": "https://localhost:8080/"
        },
        "outputId": "003582f2-c4dc-46e7-d83d-6a208afa693e"
      },
      "outputs": [
        {
          "output_type": "execute_result",
          "data": {
            "text/plain": [
              "<spacy.lang.en.English at 0x7f25a0028a00>"
            ]
          },
          "metadata": {},
          "execution_count": 193
        }
      ],
      "source": [
        "nlp"
      ]
    },
    {
      "cell_type": "code",
      "execution_count": null,
      "id": "26654a02",
      "metadata": {
        "id": "26654a02"
      },
      "outputs": [],
      "source": [
        "doc=nlp(\" \".join(no_stop_tokenz))"
      ]
    },
    {
      "cell_type": "code",
      "execution_count": null,
      "id": "1d094500",
      "metadata": {
        "id": "1d094500",
        "colab": {
          "base_uri": "https://localhost:8080/"
        },
        "outputId": "57237c0f-6908-4fed-b3aa-9fbe248a059e"
      },
      "outputs": [
        {
          "output_type": "execute_result",
          "data": {
            "text/plain": [
              "word value"
            ]
          },
          "metadata": {},
          "execution_count": 195
        }
      ],
      "source": [
        "doc"
      ]
    },
    {
      "cell_type": "code",
      "execution_count": null,
      "id": "1cff607a",
      "metadata": {
        "id": "1cff607a"
      },
      "outputs": [],
      "source": [
        "lemmas=[token.lemma_ for token in doc]"
      ]
    },
    {
      "cell_type": "code",
      "execution_count": null,
      "id": "e1bf8480",
      "metadata": {
        "id": "e1bf8480",
        "colab": {
          "base_uri": "https://localhost:8080/"
        },
        "outputId": "54adbe06-8980-4532-dc9e-7811ec1a603c"
      },
      "outputs": [
        {
          "output_type": "execute_result",
          "data": {
            "text/plain": [
              "['word', 'value']"
            ]
          },
          "metadata": {},
          "execution_count": 197
        }
      ],
      "source": [
        "lemmas"
      ]
    },
    {
      "cell_type": "markdown",
      "id": "9994710c",
      "metadata": {
        "id": "9994710c"
      },
      "source": [
        "### Feature Extraction"
      ]
    },
    {
      "cell_type": "code",
      "execution_count": null,
      "id": "74fb1935",
      "metadata": {
        "id": "74fb1935"
      },
      "outputs": [],
      "source": [
        "from sklearn.feature_extraction.text import CountVectorizer"
      ]
    },
    {
      "cell_type": "code",
      "execution_count": null,
      "id": "147b0ff5",
      "metadata": {
        "id": "147b0ff5"
      },
      "outputs": [],
      "source": [
        "vectorizer = CountVectorizer()"
      ]
    },
    {
      "cell_type": "code",
      "execution_count": null,
      "id": "769706ee",
      "metadata": {
        "id": "769706ee"
      },
      "outputs": [],
      "source": [
        "y = vectorizer.fit_transform(lemmas)"
      ]
    },
    {
      "cell_type": "code",
      "execution_count": null,
      "id": "e5a12952",
      "metadata": {
        "id": "e5a12952",
        "colab": {
          "base_uri": "https://localhost:8080/"
        },
        "outputId": "f3fcf923-f861-4ed1-956a-9aabb4a284b0"
      },
      "outputs": [
        {
          "output_type": "execute_result",
          "data": {
            "text/plain": [
              "<2x2 sparse matrix of type '<class 'numpy.int64'>'\n",
              "\twith 2 stored elements in Compressed Sparse Row format>"
            ]
          },
          "metadata": {},
          "execution_count": 201
        }
      ],
      "source": [
        "y"
      ]
    },
    {
      "cell_type": "code",
      "execution_count": null,
      "id": "114e562d",
      "metadata": {
        "id": "114e562d",
        "colab": {
          "base_uri": "https://localhost:8080/"
        },
        "outputId": "9436712d-bb63-4189-cb7c-345fa17c928e"
      },
      "outputs": [
        {
          "output_type": "stream",
          "name": "stdout",
          "text": [
            "{'word': 1, 'value': 0}\n"
          ]
        }
      ],
      "source": [
        "print(vectorizer.vocabulary_)"
      ]
    },
    {
      "cell_type": "code",
      "execution_count": null,
      "id": "0d7773cb",
      "metadata": {
        "id": "0d7773cb",
        "colab": {
          "base_uri": "https://localhost:8080/"
        },
        "outputId": "3af634c3-705d-448e-9478-f0ffba053bee"
      },
      "outputs": [
        {
          "output_type": "execute_result",
          "data": {
            "text/plain": [
              "2"
            ]
          },
          "metadata": {},
          "execution_count": 203
        }
      ],
      "source": [
        "len(vectorizer.vocabulary_)"
      ]
    },
    {
      "cell_type": "code",
      "execution_count": null,
      "id": "6d8a44e4",
      "metadata": {
        "id": "6d8a44e4",
        "colab": {
          "base_uri": "https://localhost:8080/",
          "height": 165
        },
        "outputId": "1c5c25e5-46e1-49c4-a918-32daff1e8eb1"
      },
      "outputs": [
        {
          "output_type": "error",
          "ename": "AttributeError",
          "evalue": "ignored",
          "traceback": [
            "\u001b[0;31m---------------------------------------------------------------------------\u001b[0m",
            "\u001b[0;31mAttributeError\u001b[0m                            Traceback (most recent call last)",
            "\u001b[0;32m<ipython-input-206-cccc2251218a>\u001b[0m in \u001b[0;36m<cell line: 1>\u001b[0;34m()\u001b[0m\n\u001b[0;32m----> 1\u001b[0;31m \u001b[0mprint\u001b[0m\u001b[0;34m(\u001b[0m\u001b[0mvectorizer\u001b[0m\u001b[0;34m.\u001b[0m\u001b[0mget_feature_name\u001b[0m\u001b[0;34m(\u001b[0m\u001b[0;34m)\u001b[0m\u001b[0;34m)\u001b[0m\u001b[0;34m\u001b[0m\u001b[0;34m\u001b[0m\u001b[0m\n\u001b[0m",
            "\u001b[0;31mAttributeError\u001b[0m: 'CountVectorizer' object has no attribute 'get_feature_name'"
          ]
        }
      ],
      "source": [
        "print(vectorizer.get_feature_name())"
      ]
    },
    {
      "cell_type": "code",
      "execution_count": null,
      "id": "d8c8e079",
      "metadata": {
        "id": "d8c8e079",
        "colab": {
          "base_uri": "https://localhost:8080/"
        },
        "outputId": "b836889f-b00e-475c-af7e-3e94df072da5"
      },
      "outputs": [
        {
          "output_type": "stream",
          "name": "stdout",
          "text": [
            "[[0 1]\n",
            " [1 0]]\n"
          ]
        }
      ],
      "source": [
        "print(y.toarray())"
      ]
    },
    {
      "cell_type": "code",
      "execution_count": null,
      "id": "ec17567d",
      "metadata": {
        "id": "ec17567d",
        "colab": {
          "base_uri": "https://localhost:8080/"
        },
        "outputId": "edc45f61-8c27-4d98-84d4-f94f565e74b8"
      },
      "outputs": [
        {
          "output_type": "stream",
          "name": "stdout",
          "text": [
            "(2, 2)\n"
          ]
        }
      ],
      "source": [
        "print(y.toarray().shape)"
      ]
    },
    {
      "cell_type": "markdown",
      "id": "b0b9fecc",
      "metadata": {
        "id": "b0b9fecc"
      },
      "source": [
        "#### Let's see how can bigrams and trigrams can be included here"
      ]
    },
    {
      "cell_type": "code",
      "execution_count": null,
      "id": "4aebc4f0",
      "metadata": {
        "id": "4aebc4f0"
      },
      "outputs": [],
      "source": [
        "vectorizer_ngram_range = CountVectorizer(analyzer='word',ngram_range=(1,3),max_features = 100)\n",
        "bow_matrix_ngram =vectorizer_ngram_range.fit_transform(data)"
      ]
    },
    {
      "cell_type": "code",
      "execution_count": null,
      "id": "b89f22d0",
      "metadata": {
        "id": "b89f22d0",
        "colab": {
          "base_uri": "https://localhost:8080/",
          "height": 165
        },
        "outputId": "18573677-673a-4126-9823-6f0b9ec96647"
      },
      "outputs": [
        {
          "output_type": "error",
          "ename": "AttributeError",
          "evalue": "ignored",
          "traceback": [
            "\u001b[0;31m---------------------------------------------------------------------------\u001b[0m",
            "\u001b[0;31mAttributeError\u001b[0m                            Traceback (most recent call last)",
            "\u001b[0;32m<ipython-input-211-922d15ae41cb>\u001b[0m in \u001b[0;36m<cell line: 1>\u001b[0;34m()\u001b[0m\n\u001b[0;32m----> 1\u001b[0;31m \u001b[0mprint\u001b[0m\u001b[0;34m(\u001b[0m\u001b[0mvectorizer_ngram_range\u001b[0m\u001b[0;34m.\u001b[0m\u001b[0mget_feature_names\u001b[0m\u001b[0;34m(\u001b[0m\u001b[0;34m)\u001b[0m\u001b[0;34m)\u001b[0m\u001b[0;34m\u001b[0m\u001b[0;34m\u001b[0m\u001b[0m\n\u001b[0m",
            "\u001b[0;31mAttributeError\u001b[0m: 'CountVectorizer' object has no attribute 'get_feature_names'"
          ]
        }
      ],
      "source": [
        "print(vectorizer_ngram_range.get_feature_names())"
      ]
    },
    {
      "cell_type": "code",
      "execution_count": null,
      "id": "eb5c745d",
      "metadata": {
        "id": "eb5c745d",
        "colab": {
          "base_uri": "https://localhost:8080/"
        },
        "outputId": "d6a852e0-1afb-48c7-fdb9-c30095a1c362"
      },
      "outputs": [
        {
          "output_type": "stream",
          "name": "stdout",
          "text": [
            "[[0 1]\n",
            " [1 0]]\n"
          ]
        }
      ],
      "source": [
        "print(bow_matrix_ngram.toarray())"
      ]
    },
    {
      "cell_type": "markdown",
      "id": "86f13965",
      "metadata": {
        "id": "86f13965"
      },
      "source": [
        "### N-grams with CountVectorizer"
      ]
    },
    {
      "cell_type": "code",
      "execution_count": null,
      "id": "31321ada",
      "metadata": {
        "id": "31321ada"
      },
      "outputs": [],
      "source": [
        "vectorizer_ngram_range = CountVectorizer(analyzer='word',ngram_range=(1,3),max_features = 100)\n",
        "bow_matrix_ngram =vectorizer_ngram_range.fit_transform(data)"
      ]
    },
    {
      "cell_type": "code",
      "execution_count": null,
      "id": "087f4a11",
      "metadata": {
        "id": "087f4a11",
        "colab": {
          "base_uri": "https://localhost:8080/",
          "height": 165
        },
        "outputId": "eb83cfcb-7291-41a1-a4ef-edee8201b455"
      },
      "outputs": [
        {
          "output_type": "error",
          "ename": "AttributeError",
          "evalue": "ignored",
          "traceback": [
            "\u001b[0;31m---------------------------------------------------------------------------\u001b[0m",
            "\u001b[0;31mAttributeError\u001b[0m                            Traceback (most recent call last)",
            "\u001b[0;32m<ipython-input-214-922d15ae41cb>\u001b[0m in \u001b[0;36m<cell line: 1>\u001b[0;34m()\u001b[0m\n\u001b[0;32m----> 1\u001b[0;31m \u001b[0mprint\u001b[0m\u001b[0;34m(\u001b[0m\u001b[0mvectorizer_ngram_range\u001b[0m\u001b[0;34m.\u001b[0m\u001b[0mget_feature_names\u001b[0m\u001b[0;34m(\u001b[0m\u001b[0;34m)\u001b[0m\u001b[0;34m)\u001b[0m\u001b[0;34m\u001b[0m\u001b[0;34m\u001b[0m\u001b[0m\n\u001b[0m",
            "\u001b[0;31mAttributeError\u001b[0m: 'CountVectorizer' object has no attribute 'get_feature_names'"
          ]
        }
      ],
      "source": [
        "print(vectorizer_ngram_range.get_feature_names())"
      ]
    },
    {
      "cell_type": "code",
      "execution_count": null,
      "id": "f7c45df1",
      "metadata": {
        "id": "f7c45df1"
      },
      "outputs": [],
      "source": [
        "print(bow_matrix_ngram.toarray())"
      ]
    },
    {
      "cell_type": "markdown",
      "id": "3e0057f7",
      "metadata": {
        "id": "3e0057f7"
      },
      "source": [
        "### TFidf vectorizer"
      ]
    },
    {
      "cell_type": "code",
      "execution_count": null,
      "id": "80063b5c",
      "metadata": {
        "id": "80063b5c"
      },
      "outputs": [],
      "source": [
        "from sklearn.feature_extraction.text import TfidfVectorizer"
      ]
    },
    {
      "cell_type": "code",
      "execution_count": null,
      "id": "b3d54892",
      "metadata": {
        "id": "b3d54892"
      },
      "outputs": [],
      "source": [
        "vectorizer_n_gram_max_features = TfidfVectorizer(norm=\"l2\",analyzer='word', ngram_range=(1,2), max_features = 100)\n",
        "tf_idf_matrix_n_gram_max_features =vectorizer_n_gram_max_features.fit_transform(data)\n",
        "print(vectorizer_n_gram_max_features.get_feature_names())"
      ]
    },
    {
      "cell_type": "code",
      "execution_count": null,
      "id": "9f8dc1b8",
      "metadata": {
        "id": "9f8dc1b8"
      },
      "outputs": [],
      "source": [
        "print(tf_idf_matrix_n_gram_max_features.toarray())"
      ]
    },
    {
      "cell_type": "markdown",
      "id": "7140e6b9",
      "metadata": {
        "id": "7140e6b9"
      },
      "source": [
        "## Generating wordcloud"
      ]
    },
    {
      "cell_type": "code",
      "execution_count": null,
      "id": "dfeb4be5",
      "metadata": {
        "id": "dfeb4be5"
      },
      "outputs": [],
      "source": [
        "from wordcloud import WordCloud, STOPWORDS"
      ]
    },
    {
      "cell_type": "code",
      "execution_count": null,
      "id": "7a8d1560",
      "metadata": {
        "id": "7a8d1560"
      },
      "outputs": [],
      "source": [
        "def plot_cloud(wordcloud):\n",
        "    plt.figure(figsize=(40, 30))  \n",
        "    plt.imshow(wordcloud)     \n",
        "    plt.axis(\"off\");     "
      ]
    },
    {
      "cell_type": "code",
      "execution_count": null,
      "id": "e85de3bc",
      "metadata": {
        "id": "e85de3bc"
      },
      "outputs": [],
      "source": [
        "stopwords = STOPWORDS\n",
        "stopwords.add('will')\n",
        "wordcloud = WordCloud(width = 3000, \n",
        "                      height = 2000, \n",
        "                      background_color='black', \n",
        "                      max_words=100,\n",
        "                      colormap='Set2',\n",
        "                      stopwords=stopwords).generate(text)\n"
      ]
    },
    {
      "cell_type": "code",
      "execution_count": null,
      "id": "dd4c8168",
      "metadata": {
        "scrolled": true,
        "id": "dd4c8168"
      },
      "outputs": [],
      "source": [
        "plot_cloud(wordcloud)"
      ]
    },
    {
      "cell_type": "code",
      "execution_count": null,
      "id": "58cbc8a2",
      "metadata": {
        "id": "58cbc8a2"
      },
      "outputs": [],
      "source": [
        "wordcloud.to_file(\"wordcloud.png\")"
      ]
    }
  ],
  "metadata": {
    "kernelspec": {
      "display_name": "Python 3 (ipykernel)",
      "language": "python",
      "name": "python3"
    },
    "language_info": {
      "codemirror_mode": {
        "name": "ipython",
        "version": 3
      },
      "file_extension": ".py",
      "mimetype": "text/x-python",
      "name": "python",
      "nbconvert_exporter": "python",
      "pygments_lexer": "ipython3",
      "version": "3.9.12"
    },
    "colab": {
      "provenance": []
    }
  },
  "nbformat": 4,
  "nbformat_minor": 5
}